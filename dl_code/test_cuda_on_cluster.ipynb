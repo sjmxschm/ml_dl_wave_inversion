{
 "cells": [
  {
   "cell_type": "markdown",
   "metadata": {
    "collapsed": true,
    "pycharm": {
     "name": "#%% md\n"
    }
   },
   "source": [
    "# Try to get GPU support with utilizing the CUDA capacities at the PACE cluster\n",
    "\n",
    "This script is just meant to get GPU support for training Pytorch CNNs to decrease\n",
    "training time of the networks.\n",
    "\n",
    "_Command to start Jupyter on server:_\n",
    "\n",
    " > `pace-jupyter-notebook  --conda-env=wave_CNN_env -q inferno -A GT-lj2 -l\n",
    "    nodes=1:ppn=1:gpus=1:exclusive_process,pmem=16gb,walltime=4:00:00`\n",
    "\n",
    "Make sure that the right kernel (`wave_CNN_env`) is selected after starting the kernel\n",
    "in case you omitted the `--conda-env=wave_CNN_env` part above.\n"
   ]
  },
  {
   "cell_type": "code",
   "execution_count": 1,
   "outputs": [],
   "source": [
    "import torch"
   ],
   "metadata": {
    "collapsed": false,
    "pycharm": {
     "name": "#%%\n"
    }
   }
  },
  {
   "cell_type": "code",
   "execution_count": 2,
   "outputs": [
    {
     "name": "stdout",
     "output_type": "stream",
     "text": [
      "is_cuda = True\n",
      "True\n"
     ]
    }
   ],
   "source": [
    "is_cuda = True\n",
    "is_cuda = is_cuda and torch.cuda.is_available() # will turn off cuda if the machine doesnt have a GPU\n",
    "print(f'is_cuda = {is_cuda}')\n",
    "print(torch.cuda.is_available())\n"
   ],
   "metadata": {
    "collapsed": false,
    "pycharm": {
     "name": "#%%\n"
    }
   }
  }
 ],
 "metadata": {
  "kernelspec": {
   "display_name": "Python 3",
   "language": "python",
   "name": "python3"
  },
  "language_info": {
   "codemirror_mode": {
    "name": "ipython",
    "version": 2
   },
   "file_extension": ".py",
   "mimetype": "text/x-python",
   "name": "python",
   "nbconvert_exporter": "python",
   "pygments_lexer": "ipython2",
   "version": "2.7.6"
  }
 },
 "nbformat": 4,
 "nbformat_minor": 0
}