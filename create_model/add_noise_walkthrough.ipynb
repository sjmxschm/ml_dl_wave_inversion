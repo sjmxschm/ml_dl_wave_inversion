{
 "cells": [
  {
   "cell_type": "markdown",
   "source": [
    "# Noise Creation Walkthrough\n",
    "\n",
    "_Notebook was created by:_ Max Schmitz\n",
    "_on:_ 11/03/2022\n",
    "\n",
    "The data used in this research so far was\n",
    "\n",
    "This file inverts data and then adds the noise on a couple of sample files to show the procedure. The used functions need to be still run on all files given.\n",
    "\n",
    "This notebook will\n",
    "1. load a 2D-FFT file with respective frequency and wavenumber grid\n",
    "2. apply the inverse 2D-FFT to obtain the data in the _time $\\times$ displacement_ domain (hopefully that is giving some meaningful results because I deleted the phase information and only the amplitude information is included now!!!)\n",
    "3. add noise to the measurement in the time-displacement domain (figure out which noise and to which magnitude)\n",
    "4. transform the data with noise from the time-displacement domain now back to the frequency-wavenumber domain with the 2D-FFT again\n"
   ],
   "metadata": {
    "collapsed": false,
    "pycharm": {
     "name": "#%% md\n"
    }
   }
  },
  {
   "cell_type": "code",
   "execution_count": 1,
   "outputs": [],
   "source": [
    "%load_ext autoreload\n",
    "%autoreload 2"
   ],
   "metadata": {
    "collapsed": false,
    "pycharm": {
     "name": "#%%\n"
    }
   }
  },
  {
   "cell_type": "code",
   "execution_count": 2,
   "outputs": [],
   "source": [
    "import pathlib\n",
    "\n",
    "from utils import load_2dfft_processed_data\n",
    "from postprocess_2dfft_max_v15 import invert_2dfft # TODO: move this function to the utils file"
   ],
   "metadata": {
    "collapsed": false,
    "pycharm": {
     "name": "#%%\n"
    }
   }
  },
  {
   "cell_type": "markdown",
   "source": [
    "## 1. Load 2D-FFT file"
   ],
   "metadata": {
    "collapsed": false,
    "pycharm": {
     "name": "#%% md\n"
    }
   }
  },
  {
   "cell_type": "code",
   "execution_count": 5,
   "outputs": [
    {
     "name": "stdout",
     "output_type": "stream",
     "text": [
      "C:\\Users\\Max\\OneDrive\\Documents\\Uni Gatech MSC\\A Lab Research Wave CEE\\A Journal Paper\\ml_dl_wave_inversion\\create_model\\2dfft_data_selected\n"
     ]
    }
   ],
   "source": [
    "# -- Specify folder to work in/where data lays\n",
    "data_path = pathlib.Path().resolve() / '2dfft_data_selected'  # TODO: make this lead to the correct folder\n",
    "\n",
    "print(data_path)\n",
    "\n",
    "# -- Specify file names for example file\n",
    "fn = '11-09_19-25-13_max_analysis_job_disp_2dfft_fg_0.0002.csv'\n",
    "\n",
    "fg, kg, abs_fft_data, sim_info = load_2dfft_processed_data(fn, data_path)"
   ],
   "metadata": {
    "collapsed": false,
    "pycharm": {
     "name": "#%%\n"
    }
   }
  },
  {
   "cell_type": "markdown",
   "source": [
    "## 2. Apply inverse 2D-FFT"
   ],
   "metadata": {
    "collapsed": false,
    "pycharm": {
     "name": "#%% md\n"
    }
   }
  },
  {
   "cell_type": "code",
   "execution_count": null,
   "outputs": [],
   "source": [
    "time_x_displacement, dt, dx, Nt, Nx = invert_2dfft(fg, kg, abs_fft_data, sim_info)"
   ],
   "metadata": {
    "collapsed": false,
    "pycharm": {
     "name": "#%%\n"
    }
   }
  },
  {
   "cell_type": "markdown",
   "source": [
    "## 3. Add noise to sampling"
   ],
   "metadata": {
    "collapsed": false,
    "pycharm": {
     "name": "#%% md\n"
    }
   }
  },
  {
   "cell_type": "code",
   "execution_count": null,
   "outputs": [],
   "source": [
    "# TODO: add_noise(time_x_displacement)"
   ],
   "metadata": {
    "collapsed": false,
    "pycharm": {
     "name": "#%%\n"
    }
   }
  }
 ],
 "metadata": {
  "kernelspec": {
   "display_name": "Python 3",
   "language": "python",
   "name": "python3"
  },
  "language_info": {
   "codemirror_mode": {
    "name": "ipython",
    "version": 2
   },
   "file_extension": ".py",
   "mimetype": "text/x-python",
   "name": "python",
   "nbconvert_exporter": "python",
   "pygments_lexer": "ipython2",
   "version": "2.7.6"
  }
 },
 "nbformat": 4,
 "nbformat_minor": 0
}